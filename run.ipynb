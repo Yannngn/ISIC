{
 "cells": [
  {
   "cell_type": "code",
   "execution_count": null,
   "metadata": {},
   "outputs": [],
   "source": [
    "import torch\n",
    "\n",
    "from imagenet import ImageNetLightningModel"
   ]
  },
  {
   "cell_type": "code",
   "execution_count": 1,
   "metadata": {},
   "outputs": [],
   "source": [
    "NUM_CLASSES = 3\n",
    "BATCH_SIZE = 16\n",
    "PRECISION = 16\n",
    "NORMALIZE = {'mean':[0.485, 0.456, 0.406], \n",
    "             'std':[0.229, 0.224, 0.225]} "
   ]
  },
  {
   "cell_type": "code",
   "execution_count": null,
   "metadata": {},
   "outputs": [],
   "source": [
    "!python imagenet.py --arch vgg19 --num-classes NUM_CLASSES --accelerator gpu --batch-size BATCH_SIZE --precision PRECISION --data-path images/ --annotation-path D:/Github/TCC/ISIC/subset"
   ]
  },
  {
   "cell_type": "code",
   "execution_count": null,
   "metadata": {},
   "outputs": [],
   "source": [
    "model = ImageNetLightningModel.load_from_checkpoint('lightning_logs/version_24/checkpoints/epoch=89-step=28440.ckpt', map_location=torch.device('cuda'))\n",
    "model.eval()"
   ]
  },
  {
   "cell_type": "code",
   "execution_count": 7,
   "metadata": {},
   "outputs": [],
   "source": [
    "import torchvision\n",
    "\n",
    "from torch.nn.functional import softmax\n",
    "from torchvision.io import read_image"
   ]
  },
  {
   "cell_type": "code",
   "execution_count": null,
   "metadata": {},
   "outputs": [],
   "source": [
    "image = torchvision.transforms.Normalize(**NORMALIZE)(read_image('images/ISIC_0025076.jpg').type(torch.float32) / 255).unsqueeze(0)"
   ]
  }
 ],
 "metadata": {
  "kernelspec": {
   "display_name": "lightning",
   "language": "python",
   "name": "python3"
  },
  "language_info": {
   "codemirror_mode": {
    "name": "ipython",
    "version": 3
   },
   "file_extension": ".py",
   "mimetype": "text/x-python",
   "name": "python",
   "nbconvert_exporter": "python",
   "pygments_lexer": "ipython3",
   "version": "3.10.9"
  },
  "orig_nbformat": 4,
  "vscode": {
   "interpreter": {
    "hash": "bf77e511ba9a774c6a5fec27afb257981cf7bf94e13d86a44eae1f22da98919e"
   }
  }
 },
 "nbformat": 4,
 "nbformat_minor": 2
}
