{
 "cells": [
  {
   "cell_type": "code",
   "execution_count": 1,
   "metadata": {},
   "outputs": [],
   "source": [
    "import pandas as pd\n"
   ]
  },
  {
   "cell_type": "code",
   "execution_count": 6,
   "metadata": {},
   "outputs": [
    {
     "name": "stderr",
     "output_type": "stream",
     "text": [
      "C:\\Users\\yannn\\AppData\\Local\\Temp\\ipykernel_29436\\1000669844.py:1: DtypeWarning: Columns (8,11,13,14,15,17,18,20,21,22) have mixed types. Specify dtype option on import or set low_memory=False.\n",
      "  data = pd.read_csv('Task_1\\images\\metadata.csv')\n"
     ]
    },
    {
     "data": {
      "text/html": [
       "<div>\n",
       "<style scoped>\n",
       "    .dataframe tbody tr th:only-of-type {\n",
       "        vertical-align: middle;\n",
       "    }\n",
       "\n",
       "    .dataframe tbody tr th {\n",
       "        vertical-align: top;\n",
       "    }\n",
       "\n",
       "    .dataframe thead th {\n",
       "        text-align: right;\n",
       "    }\n",
       "</style>\n",
       "<table border=\"1\" class=\"dataframe\">\n",
       "  <thead>\n",
       "    <tr style=\"text-align: right;\">\n",
       "      <th></th>\n",
       "      <th>isic_id</th>\n",
       "      <th>attribution</th>\n",
       "      <th>copyright_license</th>\n",
       "      <th>acquisition_day</th>\n",
       "      <th>age_approx</th>\n",
       "      <th>anatom_site_general</th>\n",
       "      <th>benign_malignant</th>\n",
       "      <th>clin_size_long_diam_mm</th>\n",
       "      <th>dermoscopic_type</th>\n",
       "      <th>diagnosis</th>\n",
       "      <th>...</th>\n",
       "      <th>mel_thick_mm</th>\n",
       "      <th>mel_type</th>\n",
       "      <th>mel_ulcer</th>\n",
       "      <th>melanocytic</th>\n",
       "      <th>nevus_type</th>\n",
       "      <th>patient_id</th>\n",
       "      <th>personal_hx_mm</th>\n",
       "      <th>pixels_x</th>\n",
       "      <th>pixels_y</th>\n",
       "      <th>sex</th>\n",
       "    </tr>\n",
       "  </thead>\n",
       "  <tbody>\n",
       "    <tr>\n",
       "      <th>0</th>\n",
       "      <td>ISIC_3491559</td>\n",
       "      <td>Memorial Sloan Kettering Cancer Center</td>\n",
       "      <td>CC-0</td>\n",
       "      <td>NaN</td>\n",
       "      <td>45.0</td>\n",
       "      <td>upper extremity</td>\n",
       "      <td>benign</td>\n",
       "      <td>1.4</td>\n",
       "      <td>NaN</td>\n",
       "      <td>seborrheic keratosis</td>\n",
       "      <td>...</td>\n",
       "      <td>NaN</td>\n",
       "      <td>NaN</td>\n",
       "      <td>NaN</td>\n",
       "      <td>True</td>\n",
       "      <td>NaN</td>\n",
       "      <td>IP_0918668</td>\n",
       "      <td>False</td>\n",
       "      <td>3264</td>\n",
       "      <td>2448</td>\n",
       "      <td>female</td>\n",
       "    </tr>\n",
       "    <tr>\n",
       "      <th>1</th>\n",
       "      <td>ISIC_3622379</td>\n",
       "      <td>Memorial Sloan Kettering Cancer Center</td>\n",
       "      <td>CC-0</td>\n",
       "      <td>NaN</td>\n",
       "      <td>65.0</td>\n",
       "      <td>posterior torso</td>\n",
       "      <td>benign</td>\n",
       "      <td>8.8</td>\n",
       "      <td>contact polarized</td>\n",
       "      <td>nevus</td>\n",
       "      <td>...</td>\n",
       "      <td>NaN</td>\n",
       "      <td>NaN</td>\n",
       "      <td>NaN</td>\n",
       "      <td>True</td>\n",
       "      <td>NaN</td>\n",
       "      <td>IP_6028537</td>\n",
       "      <td>True</td>\n",
       "      <td>3264</td>\n",
       "      <td>2448</td>\n",
       "      <td>male</td>\n",
       "    </tr>\n",
       "    <tr>\n",
       "      <th>2</th>\n",
       "      <td>ISIC_2443008</td>\n",
       "      <td>Memorial Sloan Kettering Cancer Center</td>\n",
       "      <td>CC-0</td>\n",
       "      <td>NaN</td>\n",
       "      <td>45.0</td>\n",
       "      <td>upper extremity</td>\n",
       "      <td>malignant</td>\n",
       "      <td>7.7</td>\n",
       "      <td>non-contact polarized</td>\n",
       "      <td>squamous cell carcinoma</td>\n",
       "      <td>...</td>\n",
       "      <td>NaN</td>\n",
       "      <td>NaN</td>\n",
       "      <td>NaN</td>\n",
       "      <td>False</td>\n",
       "      <td>NaN</td>\n",
       "      <td>IP_2891227</td>\n",
       "      <td>False</td>\n",
       "      <td>3264</td>\n",
       "      <td>2448</td>\n",
       "      <td>male</td>\n",
       "    </tr>\n",
       "    <tr>\n",
       "      <th>3</th>\n",
       "      <td>ISIC_6892286</td>\n",
       "      <td>Memorial Sloan Kettering Cancer Center</td>\n",
       "      <td>CC-0</td>\n",
       "      <td>NaN</td>\n",
       "      <td>75.0</td>\n",
       "      <td>posterior torso</td>\n",
       "      <td>malignant</td>\n",
       "      <td>9.4</td>\n",
       "      <td>contact polarized</td>\n",
       "      <td>melanoma</td>\n",
       "      <td>...</td>\n",
       "      <td>0.3</td>\n",
       "      <td>NaN</td>\n",
       "      <td>False</td>\n",
       "      <td>True</td>\n",
       "      <td>NaN</td>\n",
       "      <td>IP_3056186</td>\n",
       "      <td>True</td>\n",
       "      <td>3264</td>\n",
       "      <td>2448</td>\n",
       "      <td>male</td>\n",
       "    </tr>\n",
       "    <tr>\n",
       "      <th>4</th>\n",
       "      <td>ISIC_1979534</td>\n",
       "      <td>Memorial Sloan Kettering Cancer Center</td>\n",
       "      <td>CC-0</td>\n",
       "      <td>NaN</td>\n",
       "      <td>80.0</td>\n",
       "      <td>head/neck</td>\n",
       "      <td>malignant</td>\n",
       "      <td>20.0</td>\n",
       "      <td>NaN</td>\n",
       "      <td>squamous cell carcinoma</td>\n",
       "      <td>...</td>\n",
       "      <td>NaN</td>\n",
       "      <td>NaN</td>\n",
       "      <td>NaN</td>\n",
       "      <td>False</td>\n",
       "      <td>NaN</td>\n",
       "      <td>IP_2084621</td>\n",
       "      <td>True</td>\n",
       "      <td>3264</td>\n",
       "      <td>2448</td>\n",
       "      <td>male</td>\n",
       "    </tr>\n",
       "  </tbody>\n",
       "</table>\n",
       "<p>5 rows × 26 columns</p>\n",
       "</div>"
      ],
      "text/plain": [
       "        isic_id                             attribution copyright_license  \\\n",
       "0  ISIC_3491559  Memorial Sloan Kettering Cancer Center              CC-0   \n",
       "1  ISIC_3622379  Memorial Sloan Kettering Cancer Center              CC-0   \n",
       "2  ISIC_2443008  Memorial Sloan Kettering Cancer Center              CC-0   \n",
       "3  ISIC_6892286  Memorial Sloan Kettering Cancer Center              CC-0   \n",
       "4  ISIC_1979534  Memorial Sloan Kettering Cancer Center              CC-0   \n",
       "\n",
       "   acquisition_day  age_approx anatom_site_general benign_malignant  \\\n",
       "0              NaN        45.0     upper extremity           benign   \n",
       "1              NaN        65.0     posterior torso           benign   \n",
       "2              NaN        45.0     upper extremity        malignant   \n",
       "3              NaN        75.0     posterior torso        malignant   \n",
       "4              NaN        80.0           head/neck        malignant   \n",
       "\n",
       "   clin_size_long_diam_mm       dermoscopic_type                diagnosis  \\\n",
       "0                     1.4                    NaN     seborrheic keratosis   \n",
       "1                     8.8      contact polarized                    nevus   \n",
       "2                     7.7  non-contact polarized  squamous cell carcinoma   \n",
       "3                     9.4      contact polarized                 melanoma   \n",
       "4                    20.0                    NaN  squamous cell carcinoma   \n",
       "\n",
       "   ... mel_thick_mm mel_type mel_ulcer melanocytic nevus_type  patient_id  \\\n",
       "0  ...          NaN      NaN       NaN        True        NaN  IP_0918668   \n",
       "1  ...          NaN      NaN       NaN        True        NaN  IP_6028537   \n",
       "2  ...          NaN      NaN       NaN       False        NaN  IP_2891227   \n",
       "3  ...          0.3      NaN     False        True        NaN  IP_3056186   \n",
       "4  ...          NaN      NaN       NaN       False        NaN  IP_2084621   \n",
       "\n",
       "   personal_hx_mm pixels_x pixels_y     sex  \n",
       "0           False     3264     2448  female  \n",
       "1            True     3264     2448    male  \n",
       "2           False     3264     2448    male  \n",
       "3            True     3264     2448    male  \n",
       "4            True     3264     2448    male  \n",
       "\n",
       "[5 rows x 26 columns]"
      ]
     },
     "execution_count": 6,
     "metadata": {},
     "output_type": "execute_result"
    }
   ],
   "source": [
    "data = pd.read_csv('Task_1\\images\\metadata.csv')\n",
    "data.head()"
   ]
  },
  {
   "cell_type": "code",
   "execution_count": 7,
   "metadata": {},
   "outputs": [],
   "source": [
    "columns = data.columns.tolist()"
   ]
  },
  {
   "cell_type": "code",
   "execution_count": 9,
   "metadata": {},
   "outputs": [
    {
     "name": "stdout",
     "output_type": "stream",
     "text": [
      "['isic_id', 'attribution', 'copyright_license', 'acquisition_day', 'age_approx', 'anatom_site_general', 'benign_malignant', 'clin_size_long_diam_mm', 'dermoscopic_type', 'diagnosis', 'diagnosis_confirm_type', 'family_hx_mm', 'image_type', 'lesion_id', 'mel_class', 'mel_mitotic_index', 'mel_thick_mm', 'mel_type', 'mel_ulcer', 'melanocytic', 'nevus_type', 'patient_id', 'personal_hx_mm', 'pixels_x', 'pixels_y', 'sex']\n"
     ]
    }
   ],
   "source": [
    "print(columns)"
   ]
  },
  {
   "cell_type": "code",
   "execution_count": 65,
   "metadata": {},
   "outputs": [],
   "source": [
    "df = data[['isic_id', 'diagnosis', 'benign_malignant']]"
   ]
  },
  {
   "cell_type": "code",
   "execution_count": 66,
   "metadata": {},
   "outputs": [],
   "source": [
    "images = df.isic_id.tolist()\n",
    "\n",
    "\n",
    "labels = df.diagnosis.tolist()"
   ]
  },
  {
   "cell_type": "code",
   "execution_count": 67,
   "metadata": {},
   "outputs": [],
   "source": [
    "import torch\n",
    "import lightning"
   ]
  },
  {
   "cell_type": "code",
   "execution_count": 68,
   "metadata": {},
   "outputs": [],
   "source": [
    "from sklearn import model_selection, preprocessing"
   ]
  },
  {
   "cell_type": "code",
   "execution_count": 69,
   "metadata": {},
   "outputs": [
    {
     "name": "stdout",
     "output_type": "stream",
     "text": [
      "{'AIMP': 0, 'acrochordon': 1, 'actinic keratosis': 2, 'angiofibroma or fibrous papule': 3, 'angiokeratoma': 4, 'angioma': 5, 'atypical melanocytic proliferation': 6, 'atypical spitz tumor': 7, 'basal cell carcinoma': 8, 'cafe-au-lait macule': 9, 'clear cell acanthoma': 10, 'dermatofibroma': 11, 'lentigo NOS': 12, 'lentigo simplex': 13, 'lichenoid keratosis': 14, 'melanoma': 15, 'melanoma metastasis': 16, 'nan': 17, 'neurofibroma': 18, 'nevus': 19, 'other': 20, 'pigmented benign keratosis': 21, 'scar': 22, 'seborrheic keratosis': 23, 'solar lentigo': 24, 'squamous cell carcinoma': 25, 'vascular lesion': 26, 'verruca': 27}\n"
     ]
    }
   ],
   "source": [
    "le = preprocessing.LabelEncoder()\n",
    "encoded = le.fit_transform(labels)\n",
    "le_name_mapping = dict(zip(le.classes_, le.transform(le.classes_)))\n",
    "print(le_name_mapping)"
   ]
  },
  {
   "cell_type": "code",
   "execution_count": 70,
   "metadata": {},
   "outputs": [],
   "source": [
    "trainx, testx, trainy, testy = model_selection.train_test_split(images, encoded, test_size=.3)"
   ]
  },
  {
   "cell_type": "code",
   "execution_count": 71,
   "metadata": {},
   "outputs": [],
   "source": [
    "trainx, valx, trainy, valy = model_selection.train_test_split(trainx, trainy, train_size=.8)"
   ]
  },
  {
   "cell_type": "code",
   "execution_count": 74,
   "metadata": {},
   "outputs": [],
   "source": [
    "def make_csv(images, labels, name):\n",
    "    df = pd.DataFrame([[image, label] for image, label in zip(images, labels) \n",
    "                       ], columns=['images', 'labels'])\n",
    "    df.to_csv(f'{name}.csv', index=False)"
   ]
  },
  {
   "cell_type": "code",
   "execution_count": 75,
   "metadata": {},
   "outputs": [],
   "source": [
    "make_csv(trainx,trainy,'train')\n",
    "make_csv(valx,valy,'val')\n",
    "make_csv(testx,testy,'test')"
   ]
  },
  {
   "cell_type": "code",
   "execution_count": 79,
   "metadata": {},
   "outputs": [
    {
     "name": "stderr",
     "output_type": "stream",
     "text": [
      "usage: imagenet.py [--logger [LOGGER]]\n",
      "                   [--enable_checkpointing [ENABLE_CHECKPOINTING]]\n",
      "                   [--default_root_dir DEFAULT_ROOT_DIR]\n",
      "                   [--gradient_clip_val GRADIENT_CLIP_VAL]\n",
      "                   [--gradient_clip_algorithm GRADIENT_CLIP_ALGORITHM]\n",
      "                   [--num_nodes NUM_NODES] [--num_processes NUM_PROCESSES]\n",
      "                   [--devices DEVICES] [--gpus GPUS]\n",
      "                   [--auto_select_gpus [AUTO_SELECT_GPUS]]\n",
      "                   [--tpu_cores TPU_CORES] [--ipus IPUS]\n",
      "                   [--enable_progress_bar [ENABLE_PROGRESS_BAR]]\n",
      "                   [--overfit_batches OVERFIT_BATCHES]\n",
      "                   [--track_grad_norm TRACK_GRAD_NORM]\n",
      "                   [--check_val_every_n_epoch CHECK_VAL_EVERY_N_EPOCH]\n",
      "                   [--fast_dev_run [FAST_DEV_RUN]]\n",
      "                   [--accumulate_grad_batches ACCUMULATE_GRAD_BATCHES]\n",
      "                   [--max_epochs MAX_EPOCHS] [--min_epochs MIN_EPOCHS]\n",
      "                   [--max_steps MAX_STEPS] [--min_steps MIN_STEPS]\n",
      "                   [--max_time MAX_TIME]\n",
      "                   [--limit_train_batches LIMIT_TRAIN_BATCHES]\n",
      "                   [--limit_val_batches LIMIT_VAL_BATCHES]\n",
      "                   [--limit_test_batches LIMIT_TEST_BATCHES]\n",
      "                   [--limit_predict_batches LIMIT_PREDICT_BATCHES]\n",
      "                   [--val_check_interval VAL_CHECK_INTERVAL]\n",
      "                   [--log_every_n_steps LOG_EVERY_N_STEPS]\n",
      "                   [--accelerator ACCELERATOR] [--strategy STRATEGY]\n",
      "                   [--sync_batchnorm [SYNC_BATCHNORM]] [--precision PRECISION]\n",
      "                   [--enable_model_summary [ENABLE_MODEL_SUMMARY]]\n",
      "                   [--num_sanity_val_steps NUM_SANITY_VAL_STEPS]\n",
      "                   [--resume_from_checkpoint RESUME_FROM_CHECKPOINT]\n",
      "                   [--profiler PROFILER] [--benchmark [BENCHMARK]]\n",
      "                   [--reload_dataloaders_every_n_epochs RELOAD_DATALOADERS_EVERY_N_EPOCHS]\n",
      "                   [--auto_lr_find [AUTO_LR_FIND]]\n",
      "                   [--replace_sampler_ddp [REPLACE_SAMPLER_DDP]]\n",
      "                   [--detect_anomaly [DETECT_ANOMALY]]\n",
      "                   [--auto_scale_batch_size [AUTO_SCALE_BATCH_SIZE]]\n",
      "                   [--plugins PLUGINS] [--amp_backend AMP_BACKEND]\n",
      "                   [--amp_level AMP_LEVEL]\n",
      "                   [--move_metrics_to_cpu [MOVE_METRICS_TO_CPU]]\n",
      "                   [--multiple_trainloader_mode MULTIPLE_TRAINLOADER_MODE]\n",
      "                   [--inference_mode [INFERENCE_MODE]] [--data-path DIR] [-e]\n",
      "                   [--seed SEED] [-a ARCH] [-j N] [-b N] [--lr LR]\n",
      "                   [--momentum M] [--wd W] [--pretrained] [--weights WEIGHTS]\n",
      "imagenet.py: error: argument -a/--arch: invalid choice: 'MobileNetV3' (choose from 'alexnet', 'convnext_base', 'convnext_large', 'convnext_small', 'convnext_tiny', 'densenet121', 'densenet161', 'densenet169', 'densenet201', 'efficientnet_b0', 'efficientnet_b1', 'efficientnet_b2', 'efficientnet_b3', 'efficientnet_b4', 'efficientnet_b5', 'efficientnet_b6', 'efficientnet_b7', 'efficientnet_v2_l', 'efficientnet_v2_m', 'efficientnet_v2_s', 'get_model', 'get_model_builder', 'get_model_weights', 'get_weight', 'googlenet', 'inception_v3', 'list_models', 'maxvit_t', 'mnasnet0_5', 'mnasnet0_75', 'mnasnet1_0', 'mnasnet1_3', 'mobilenet_v2', 'mobilenet_v3_large', 'mobilenet_v3_small', 'regnet_x_16gf', 'regnet_x_1_6gf', 'regnet_x_32gf', 'regnet_x_3_2gf', 'regnet_x_400mf', 'regnet_x_800mf', 'regnet_x_8gf', 'regnet_y_128gf', 'regnet_y_16gf', 'regnet_y_1_6gf', 'regnet_y_32gf', 'regnet_y_3_2gf', 'regnet_y_400mf', 'regnet_y_800mf', 'regnet_y_8gf', 'resnet101', 'resnet152', 'resnet18', 'resnet34', 'resnet50', 'resnext101_32x8d', 'resnext101_64x4d', 'resnext50_32x4d', 'shufflenet_v2_x0_5', 'shufflenet_v2_x1_0', 'shufflenet_v2_x1_5', 'shufflenet_v2_x2_0', 'squeezenet1_0', 'squeezenet1_1', 'swin_b', 'swin_s', 'swin_t', 'swin_v2_b', 'swin_v2_s', 'swin_v2_t', 'vgg11', 'vgg11_bn', 'vgg13', 'vgg13_bn', 'vgg16', 'vgg16_bn', 'vgg19', 'vgg19_bn', 'vit_b_16', 'vit_b_32', 'vit_h_14', 'vit_l_16', 'vit_l_32', 'wide_resnet101_2', 'wide_resnet50_2')\n"
     ]
    }
   ],
   "source": [
    "!python imagenet.py --arch mobilenet_v3_small --accelerator gpu --auto_scale_batch_size --precision 16 --amp_backend apex --amp_level 'O3' --data-path Task_1/images/ --pretrained "
   ]
  },
  {
   "cell_type": "code",
   "execution_count": null,
   "metadata": {},
   "outputs": [],
   "source": []
  }
 ],
 "metadata": {
  "kernelspec": {
   "display_name": "lightning",
   "language": "python",
   "name": "python3"
  },
  "language_info": {
   "codemirror_mode": {
    "name": "ipython",
    "version": 3
   },
   "file_extension": ".py",
   "mimetype": "text/x-python",
   "name": "python",
   "nbconvert_exporter": "python",
   "pygments_lexer": "ipython3",
   "version": "3.10.9"
  },
  "orig_nbformat": 4,
  "vscode": {
   "interpreter": {
    "hash": "bf77e511ba9a774c6a5fec27afb257981cf7bf94e13d86a44eae1f22da98919e"
   }
  }
 },
 "nbformat": 4,
 "nbformat_minor": 2
}
